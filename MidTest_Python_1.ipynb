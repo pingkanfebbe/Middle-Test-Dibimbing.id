{
  "nbformat": 4,
  "nbformat_minor": 5,
  "metadata": {
    "kernelspec": {
      "display_name": "Python 3",
      "language": "python",
      "name": "python3"
    },
    "language_info": {
      "codemirror_mode": {
        "name": "ipython",
        "version": 3
      },
      "file_extension": ".py",
      "mimetype": "text/x-python",
      "name": "python",
      "nbconvert_exporter": "python",
      "pygments_lexer": "ipython3",
      "version": "3.7.0"
    },
    "colab": {
      "provenance": []
    }
  },
  "cells": [
    {
      "cell_type": "markdown",
      "metadata": {
        "id": "87919d68"
      },
      "source": [
        "### Python 1 : Who is in the third place?"
      ],
      "id": "87919d68"
    },
    {
      "cell_type": "markdown",
      "metadata": {
        "id": "c061c30a"
      },
      "source": [
        "### Task"
      ],
      "id": "c061c30a"
    },
    {
      "cell_type": "markdown",
      "metadata": {
        "id": "66fcf833"
      },
      "source": [
        "Create a function whose name is ```third_place``` that does the following:\n",
        "\n",
        "Given a list of test score and a list of participants name. The desired output would be the name of the participant who gets the 3rd best score. The rule of determining the order of the best score is as follows:\n",
        "- Higher score is better\n",
        "- In case of multiple participants having the same test score, they can occupy the same ranking value. For example, if 2 participants scored 100, then both of them occupy the first place.\n",
        "\n",
        "The first input of the function is the name list, and the second input to the function is the score list."
      ],
      "id": "66fcf833"
    },
    {
      "cell_type": "markdown",
      "metadata": {
        "id": "aee24374"
      },
      "source": [
        "### Example 1:\n",
        "\n",
        "**Input**:\n",
        "- names = [Andi, Budi, Charlie, Dilan, Echa]\n",
        "- score = [80, 90, 95, 100, 85]\n",
        "\n",
        "This means, Andi gets 80, Budi gets 90, Charlie gets 95, Dilan gets 100, and Echa gets 85. The first best score is 100, and Dilan gets it. The second best score is 95, and Charlie gets it. The third best score is 90, and Budi gets it. So, our output should be Budi.\n",
        "\n",
        "**Output**: 'The third winner: Budi'.\n",
        "\n",
        "When we run ```third_place(names, score)```, the output will be 'The third winner: Budi'."
      ],
      "id": "aee24374"
    },
    {
      "cell_type": "markdown",
      "metadata": {
        "id": "e85af386"
      },
      "source": [
        "### Example 2:\n",
        "\n",
        "**Input**:\n",
        "- names = [Andi, Budi, Charlie, Dilan, Echa]\n",
        "- score = [80, 80, 80, 100, 90]\n",
        "\n",
        "This means, Andi, Budi, and Charlie gets 80, Dilan gets 100, and Echa gets 90. The third best score is 80, and our output should list ALL of the participants who get 80.\n",
        "\n",
        "**Output**: 'The third winner: Andi, Budi, Charlie'.\n",
        "\n",
        "When we run ```third_place(names, score)```, the output will be 'The third winner: Andi, Budi, Charlie'."
      ],
      "id": "e85af386"
    },
    {
      "cell_type": "markdown",
      "metadata": {
        "id": "bbeb3f41"
      },
      "source": [
        "### Example 3:\n",
        "\n",
        "**Input**:\n",
        "- names = [Andi, Budi, Charlie, Dilan, Echa, Fanya]\n",
        "- score = [80, 90, 90, 100, 100, 80]\n",
        "\n",
        "The first best score (first winner) is 100 - Dilan and Echa shared this position. The second best score (second winner) is 90 - Budi and Charlie shared this position. The third best score (third winner) is 80, and it is shared by Andi and Fanya. So, our output should be Andi and Fanya.\n",
        "\n",
        "**Output**: 'The third winner: Andi, Fanya'."
      ],
      "id": "bbeb3f41"
    },
    {
      "cell_type": "markdown",
      "metadata": {
        "id": "8306d027"
      },
      "source": [
        "### Space for Work"
      ],
      "id": "8306d027"
    },
    {
      "cell_type": "markdown",
      "source": [
        "## Example 1 (Answer)"
      ],
      "metadata": {
        "id": "vAs7ckd9zdEV"
      },
      "id": "vAs7ckd9zdEV"
    },
    {
      "cell_type": "code",
      "source": [
        "def third_place(names, score):\n",
        "    list_names_score = dict(zip(names, score))\n",
        "    score_sorted = sorted(list_names_score.items(), key=lambda x: x[1], reverse=True)\n",
        "    third_place = score_sorted[2][0]\n",
        "    return third_place\n",
        "\n",
        "# Example 1\n",
        "names = [\"Andi\", \"Budi\", \"Charlie\", \"Dilan\", \"Echa\"]\n",
        "score = [80, 90, 95, 100, 85]\n",
        "\n",
        "third_place = third_place(names, score)\n",
        "print(\"The third winner:\", third_place)"
      ],
      "metadata": {
        "id": "ANXQim-Y4rAs",
        "colab": {
          "base_uri": "https://localhost:8080/"
        },
        "outputId": "ec4c9f52-c0fa-45b1-8130-c8dd27c37aaa"
      },
      "id": "ANXQim-Y4rAs",
      "execution_count": 4,
      "outputs": [
        {
          "output_type": "stream",
          "name": "stdout",
          "text": [
            "The third winner: Budi\n"
          ]
        }
      ]
    },
    {
      "cell_type": "markdown",
      "source": [
        "## Example 2 (Answer)"
      ],
      "metadata": {
        "id": "qaasw2sKzlvL"
      },
      "id": "qaasw2sKzlvL"
    },
    {
      "cell_type": "code",
      "source": [
        "def third_place(names, score):\n",
        "    list_names_score = dict(zip(names, score))\n",
        "    list_names_score_sorted = sorted(list_names_score, key=lambda x: x[1], reverse=True)\n",
        "    score_third = list_names_score_sorted[2][1]\n",
        "    names_third = [list_names_score[0] for list_names_score in list_names_score_sorted\n",
        "                   if list_names_score[1] == score_third]\n",
        "    return names_third\n",
        "\n",
        "# Example 2\n",
        "names = [\"Andi\", \"Budi\", \"Charlie\", \"Dilan\", \"Echa\"]\n",
        "score = [80, 80, 80, 100, 90]\n",
        "\n",
        "third_place = third_place(names, score)\n",
        "print(\"The third winner:\", third_place)"
      ],
      "metadata": {
        "colab": {
          "base_uri": "https://localhost:8080/"
        },
        "id": "D63R3-A5oPN1",
        "outputId": "fd48587a-9217-4ccd-dc2d-d628a8566ea7"
      },
      "id": "D63R3-A5oPN1",
      "execution_count": 7,
      "outputs": [
        {
          "output_type": "stream",
          "name": "stdout",
          "text": [
            "The third winner: ['Andi', 'Budi', 'Charlie']\n"
          ]
        }
      ]
    },
    {
      "cell_type": "markdown",
      "source": [
        "## Example 3 (Answer)"
      ],
      "metadata": {
        "id": "mwBvxMjlzpCd"
      },
      "id": "mwBvxMjlzpCd"
    },
    {
      "cell_type": "code",
      "source": [
        "def third_place(names, score):\n",
        "    list_names_score = {}\n",
        "    for names, score in zip(names, score):\n",
        "        if score in list_names_score:\n",
        "            list_names_score[score].append(names)\n",
        "        else:\n",
        "            list_names_score[score] = [names]\n",
        "    list_score_sorted = sorted(list_names_score.keys(), reverse=True)\n",
        "    score_third = list_score_sorted[2]\n",
        "    names_third = list_names_score[score_third]\n",
        "    return names_third\n",
        "\n",
        "# Example 3\n",
        "names = [\"Andi\", \"Budi\", \"Charlie\", \"Dilan\", \"Echa\", \"Fanya\"]\n",
        "score = [80, 90, 90, 100, 100, 80]\n",
        "\n",
        "third_place = third_place(names, score)\n",
        "print(\"The third winner:\", third_place)"
      ],
      "metadata": {
        "colab": {
          "base_uri": "https://localhost:8080/"
        },
        "id": "9_WGWVh3piCI",
        "outputId": "29f1851f-aacc-490a-e1d4-98fa7fd0fbc3"
      },
      "id": "9_WGWVh3piCI",
      "execution_count": 11,
      "outputs": [
        {
          "output_type": "stream",
          "name": "stdout",
          "text": [
            "The third winner: ['Andi', 'Fanya']\n"
          ]
        }
      ]
    }
  ]
}